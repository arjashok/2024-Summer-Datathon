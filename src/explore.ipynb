{
 "cells": [
  {
   "cell_type": "markdown",
   "metadata": {},
   "source": [
    "# Exploratory Data Analysis\n",
    "Familiarize with the dataset, we'll try to target question 3."
   ]
  },
  {
   "cell_type": "markdown",
   "metadata": {},
   "source": [
    "## Environment Setup\n",
    "Load modules, data."
   ]
  },
  {
   "cell_type": "code",
   "execution_count": 2,
   "metadata": {},
   "outputs": [],
   "source": [
    "# modules\n",
    "## external\n",
    "import pandas as pd\n",
    "import numpy as np\n",
    "import matplotlib.pyplot as plt\n",
    "import seaborn as sns\n",
    "\n",
    "## stdlib\n",
    "from pathlib import Path\n",
    "\n",
    "## utils"
   ]
  },
  {
   "cell_type": "code",
   "execution_count": 6,
   "metadata": {},
   "outputs": [],
   "source": [
    "# load in datasets\n",
    "home_dir = Path().cwd().parent                                                  # github repo home dir\n",
    "\n",
    "## financial data\n",
    "economic_df = pd.read_csv(\n",
    "    home_dir / \"datasets\" / \"acs_5yr_est_selected_economic_characteristics_2010-2022.csv\",\n",
    "    engine=\"c\", low_memory=False\n",
    ")\n",
    "commodities_df = pd.read_csv(\n",
    "    home_dir / \"datasets\" / \"all_commodities.csv\",\n",
    "    engine=\"c\", low_memory=False\n",
    ")\n",
    "stocks_df = pd.read_csv(\n",
    "    home_dir / \"datasets\" / \"all_stock_and_etfs.csv\",\n",
    "    engine=\"c\", low_memory=False\n",
    ")\n",
    "stock_descr_df = pd.read_csv(\n",
    "    home_dir / \"datasets\" / \"stock_descriptions.csv\",\n",
    "    engine=\"c\", low_memory=False\n",
    ")\n",
    "\n",
    "## meat data\n",
    "meat_storage_df = pd.read_csv(\n",
    "    home_dir / \"datasets\" / \"Meat_Stats_Cold_Storage.csv\", engine=\"c\",\n",
    "    low_memory=False\n",
    ")\n",
    "meat_production_df = pd.read_csv(\n",
    "    home_dir / \"datasets\" / \"Meat_Stats_Meat_Production.csv\", engine=\"c\",\n",
    "    low_memory=False\n",
    ")\n",
    "meat_slaughter_weights_df = pd.read_csv(\n",
    "    home_dir / \"datasets\" / \"Meat_Stats_Slaughter_Counts.csv\", engine=\"c\",\n",
    "    low_memory=False\n",
    ")\n",
    "meat_slaughter_counts_df = pd.read_csv(\n",
    "    home_dir / \"datasets\" / \"Meat_Stats_Slaughter_Weights.csv\", engine=\"c\",\n",
    "    low_memory=False\n",
    ")\n",
    "nutrition_df = pd.read_csv(\n",
    "    home_dir / \"datasets\" / \"Nutrition_Physical_Activity_and_Obesity_Data.csv\", \n",
    "    engine=\"c\", low_memory=False\n",
    ")"
   ]
  },
  {
   "cell_type": "markdown",
   "metadata": {},
   "source": [
    "## Exploratory Analysis\n",
    "Distributions, plots, etc."
   ]
  },
  {
   "cell_type": "code",
   "execution_count": null,
   "metadata": {},
   "outputs": [],
   "source": []
  }
 ],
 "metadata": {
  "kernelspec": {
   "display_name": "base",
   "language": "python",
   "name": "python3"
  },
  "language_info": {
   "codemirror_mode": {
    "name": "ipython",
    "version": 3
   },
   "file_extension": ".py",
   "mimetype": "text/x-python",
   "name": "python",
   "nbconvert_exporter": "python",
   "pygments_lexer": "ipython3",
   "version": "3.11.5"
  }
 },
 "nbformat": 4,
 "nbformat_minor": 2
}
