{
 "cells": [
  {
   "cell_type": "code",
   "execution_count": 5,
   "id": "e46861e9-bc05-4983-9702-af2e2c8a8279",
   "metadata": {},
   "outputs": [],
   "source": [
    "import pandas as pd\n",
    "import numpy as np\n",
    "import matplotlib.pyplot as plt\n",
    "from statsmodels.tsa.stattools import ccf"
   ]
  },
  {
   "cell_type": "code",
   "execution_count": 19,
   "id": "aa4792e5-6796-4213-8896-f881270b8152",
   "metadata": {},
   "outputs": [
    {
     "name": "stdout",
     "output_type": "stream",
     "text": [
      "     Unnamed: 0        Date  Year  Month            Unit Type of Meat  \\\n",
      "0             0  2010-01-01  2010      1  Million Pounds      Poultry   \n",
      "1             1  2010-01-01  2010      1  Million Pounds     Red Meat   \n",
      "2             2  2010-02-01  2010      2  Million Pounds      Poultry   \n",
      "3             3  2010-02-01  2010      2  Million Pounds     Red Meat   \n",
      "4             4  2010-03-01  2010      3  Million Pounds      Poultry   \n",
      "..          ...         ...   ...    ...             ...          ...   \n",
      "307         307  2022-10-01  2022     10  Million Pounds     Red Meat   \n",
      "308         308  2022-11-01  2022     11  Million Pounds      Poultry   \n",
      "309         309  2022-11-01  2022     11  Million Pounds     Red Meat   \n",
      "310         310  2022-12-01  2022     12  Million Pounds      Poultry   \n",
      "311         311  2022-12-01  2022     12  Million Pounds     Red Meat   \n",
      "\n",
      "                                           Production  \n",
      "0                                   2,831.2037.8456.3  \n",
      "1    2,081.8011.61,809.7012.82,051.1011.31,797.8012.2  \n",
      "2                                   2,739.5034.7424.2  \n",
      "3    1,955.2010.71,757.5012.41,927.2010.51,745.0011.9  \n",
      "4                                   3,162.0043.4425.4  \n",
      "..                                                ...  \n",
      "307       2,404.304.52,338.3010.52,363.104.42,326.409  \n",
      "308                                 3,940.9045.4467.3  \n",
      "309      2,422.004.52,350.4011.12,387.604.42,340.7010  \n",
      "310                                   3,851.6046428.2  \n",
      "311       2,225.604.52,230.10112,193.704.42,220.409.8  \n",
      "\n",
      "[312 rows x 7 columns]\n"
     ]
    },
    {
     "ename": "ValueError",
     "evalue": "could not convert string to float: '2,831.2037.8456.3'",
     "output_type": "error",
     "traceback": [
      "\u001b[0;31m---------------------------------------------------------------------------\u001b[0m",
      "\u001b[0;31mValueError\u001b[0m                                Traceback (most recent call last)",
      "Cell \u001b[0;32mIn[19], line 20\u001b[0m\n\u001b[1;32m     17\u001b[0m lags \u001b[38;5;241m=\u001b[39m np\u001b[38;5;241m.\u001b[39marange(\u001b[38;5;241m-\u001b[39m\u001b[38;5;241m1\u001b[39m \u001b[38;5;241m*\u001b[39m num, num \u001b[38;5;241m+\u001b[39m \u001b[38;5;241m1\u001b[39m)\n\u001b[1;32m     19\u001b[0m \u001b[38;5;66;03m# Calculating cross-correlation for negative lags\u001b[39;00m\n\u001b[0;32m---> 20\u001b[0m neg_ccf \u001b[38;5;241m=\u001b[39m ccf(data[\u001b[38;5;124m'\u001b[39m\u001b[38;5;124munemployment_rate\u001b[39m\u001b[38;5;124m'\u001b[39m], data[\u001b[38;5;124m'\u001b[39m\u001b[38;5;124mProduction\u001b[39m\u001b[38;5;124m'\u001b[39m])\n\u001b[1;32m     21\u001b[0m neg_ccf \u001b[38;5;241m=\u001b[39m neg_ccf[\u001b[38;5;241m1\u001b[39m:][::\u001b[38;5;241m-\u001b[39m\u001b[38;5;241m1\u001b[39m]\n\u001b[1;32m     23\u001b[0m \u001b[38;5;66;03m# Combine with non-negative lags\u001b[39;00m\n",
      "File \u001b[0;32m~/anaconda3/lib/python3.11/site-packages/pandas/util/_decorators.py:213\u001b[0m, in \u001b[0;36mdeprecate_kwarg.<locals>._deprecate_kwarg.<locals>.wrapper\u001b[0;34m(*args, **kwargs)\u001b[0m\n\u001b[1;32m    211\u001b[0m         \u001b[38;5;28;01mraise\u001b[39;00m \u001b[38;5;167;01mTypeError\u001b[39;00m(msg)\n\u001b[1;32m    212\u001b[0m     kwargs[new_arg_name] \u001b[38;5;241m=\u001b[39m new_arg_value\n\u001b[0;32m--> 213\u001b[0m \u001b[38;5;28;01mreturn\u001b[39;00m func(\u001b[38;5;241m*\u001b[39margs, \u001b[38;5;241m*\u001b[39m\u001b[38;5;241m*\u001b[39mkwargs)\n",
      "File \u001b[0;32m~/anaconda3/lib/python3.11/site-packages/statsmodels/tsa/stattools.py:1114\u001b[0m, in \u001b[0;36mccf\u001b[0;34m(x, y, adjusted, fft)\u001b[0m\n\u001b[1;32m   1091\u001b[0m \u001b[38;5;250m\u001b[39m\u001b[38;5;124;03m\"\"\"\u001b[39;00m\n\u001b[1;32m   1092\u001b[0m \u001b[38;5;124;03mThe cross-correlation function.\u001b[39;00m\n\u001b[1;32m   1093\u001b[0m \n\u001b[0;32m   (...)\u001b[0m\n\u001b[1;32m   1111\u001b[0m \u001b[38;5;124;03mIf adjusted is true, the denominator for the autocovariance is adjusted.\u001b[39;00m\n\u001b[1;32m   1112\u001b[0m \u001b[38;5;124;03m\"\"\"\u001b[39;00m\n\u001b[1;32m   1113\u001b[0m x \u001b[38;5;241m=\u001b[39m array_like(x, \u001b[38;5;124m\"\u001b[39m\u001b[38;5;124mx\u001b[39m\u001b[38;5;124m\"\u001b[39m)\n\u001b[0;32m-> 1114\u001b[0m y \u001b[38;5;241m=\u001b[39m array_like(y, \u001b[38;5;124m\"\u001b[39m\u001b[38;5;124my\u001b[39m\u001b[38;5;124m\"\u001b[39m)\n\u001b[1;32m   1115\u001b[0m adjusted \u001b[38;5;241m=\u001b[39m bool_like(adjusted, \u001b[38;5;124m\"\u001b[39m\u001b[38;5;124madjusted\u001b[39m\u001b[38;5;124m\"\u001b[39m)\n\u001b[1;32m   1116\u001b[0m fft \u001b[38;5;241m=\u001b[39m bool_like(fft, \u001b[38;5;124m\"\u001b[39m\u001b[38;5;124mfft\u001b[39m\u001b[38;5;124m\"\u001b[39m, optional\u001b[38;5;241m=\u001b[39m\u001b[38;5;28;01mFalse\u001b[39;00m)\n",
      "File \u001b[0;32m~/anaconda3/lib/python3.11/site-packages/statsmodels/tools/validation/validation.py:143\u001b[0m, in \u001b[0;36marray_like\u001b[0;34m(obj, name, dtype, ndim, maxdim, shape, order, contiguous, optional, writeable)\u001b[0m\n\u001b[1;32m    141\u001b[0m \u001b[38;5;28;01melif\u001b[39;00m order \u001b[38;5;241m==\u001b[39m \u001b[38;5;124m\"\u001b[39m\u001b[38;5;124mF\u001b[39m\u001b[38;5;124m\"\u001b[39m:\n\u001b[1;32m    142\u001b[0m     reqs \u001b[38;5;241m+\u001b[39m\u001b[38;5;241m=\u001b[39m [\u001b[38;5;124m\"\u001b[39m\u001b[38;5;124mF\u001b[39m\u001b[38;5;124m\"\u001b[39m]\n\u001b[0;32m--> 143\u001b[0m arr \u001b[38;5;241m=\u001b[39m np\u001b[38;5;241m.\u001b[39mrequire(obj, dtype\u001b[38;5;241m=\u001b[39mdtype, requirements\u001b[38;5;241m=\u001b[39mreqs)\n\u001b[1;32m    144\u001b[0m \u001b[38;5;28;01mif\u001b[39;00m maxdim \u001b[38;5;129;01mis\u001b[39;00m \u001b[38;5;129;01mnot\u001b[39;00m \u001b[38;5;28;01mNone\u001b[39;00m:\n\u001b[1;32m    145\u001b[0m     \u001b[38;5;28;01mif\u001b[39;00m arr\u001b[38;5;241m.\u001b[39mndim \u001b[38;5;241m>\u001b[39m maxdim:\n",
      "File \u001b[0;32m~/anaconda3/lib/python3.11/site-packages/numpy/core/_asarray.py:126\u001b[0m, in \u001b[0;36mrequire\u001b[0;34m(a, dtype, requirements, like)\u001b[0m\n\u001b[1;32m    123\u001b[0m     order \u001b[38;5;241m=\u001b[39m \u001b[38;5;124m'\u001b[39m\u001b[38;5;124mC\u001b[39m\u001b[38;5;124m'\u001b[39m\n\u001b[1;32m    124\u001b[0m     requirements\u001b[38;5;241m.\u001b[39mremove(\u001b[38;5;124m'\u001b[39m\u001b[38;5;124mC\u001b[39m\u001b[38;5;124m'\u001b[39m)\n\u001b[0;32m--> 126\u001b[0m arr \u001b[38;5;241m=\u001b[39m array(a, dtype\u001b[38;5;241m=\u001b[39mdtype, order\u001b[38;5;241m=\u001b[39morder, copy\u001b[38;5;241m=\u001b[39m\u001b[38;5;28;01mFalse\u001b[39;00m, subok\u001b[38;5;241m=\u001b[39msubok)\n\u001b[1;32m    128\u001b[0m \u001b[38;5;28;01mfor\u001b[39;00m prop \u001b[38;5;129;01min\u001b[39;00m requirements:\n\u001b[1;32m    129\u001b[0m     \u001b[38;5;28;01mif\u001b[39;00m \u001b[38;5;129;01mnot\u001b[39;00m arr\u001b[38;5;241m.\u001b[39mflags[prop]:\n",
      "File \u001b[0;32m~/anaconda3/lib/python3.11/site-packages/pandas/core/series.py:953\u001b[0m, in \u001b[0;36mSeries.__array__\u001b[0;34m(self, dtype)\u001b[0m\n\u001b[1;32m    906\u001b[0m \u001b[38;5;250m\u001b[39m\u001b[38;5;124;03m\"\"\"\u001b[39;00m\n\u001b[1;32m    907\u001b[0m \u001b[38;5;124;03mReturn the values as a NumPy array.\u001b[39;00m\n\u001b[1;32m    908\u001b[0m \n\u001b[0;32m   (...)\u001b[0m\n\u001b[1;32m    950\u001b[0m \u001b[38;5;124;03m      dtype='datetime64[ns]')\u001b[39;00m\n\u001b[1;32m    951\u001b[0m \u001b[38;5;124;03m\"\"\"\u001b[39;00m\n\u001b[1;32m    952\u001b[0m values \u001b[38;5;241m=\u001b[39m \u001b[38;5;28mself\u001b[39m\u001b[38;5;241m.\u001b[39m_values\n\u001b[0;32m--> 953\u001b[0m arr \u001b[38;5;241m=\u001b[39m np\u001b[38;5;241m.\u001b[39masarray(values, dtype\u001b[38;5;241m=\u001b[39mdtype)\n\u001b[1;32m    954\u001b[0m \u001b[38;5;28;01mif\u001b[39;00m using_copy_on_write() \u001b[38;5;129;01mand\u001b[39;00m astype_is_view(values\u001b[38;5;241m.\u001b[39mdtype, arr\u001b[38;5;241m.\u001b[39mdtype):\n\u001b[1;32m    955\u001b[0m     arr \u001b[38;5;241m=\u001b[39m arr\u001b[38;5;241m.\u001b[39mview()\n",
      "\u001b[0;31mValueError\u001b[0m: could not convert string to float: '2,831.2037.8456.3'"
     ]
    }
   ],
   "source": [
    "production_df = pd.read_csv('../cleaned-datasets/Cleaned_Meat_Stats_Meat_Production.csv')\n",
    "economic_df = pd.read_csv('../cleaned-datasets/economic_data.csv')\n",
    "economic_df['Year'] = economic_df['year']\n",
    "\n",
    "# Averaging data from top meatpacking and poultry processing states into one data point per year\n",
    "condition_1 = (economic_df['state'] == 'Nebraska') | (economic_df['state'] == 'Iowa') | (economic_df['state'] == 'Texas') | (economic_df['state'] == 'Kansas') | (economic_df['state'] == 'Illinois')\n",
    "condition_2 = (economic_df['state'] == 'Georgia') | (economic_df['state'] == 'Arkansas') | (economic_df['state'] == 'North Carolina') | (economic_df['state'] == 'Alabama') | (economic_df['state'] == 'Mississippi')\n",
    "new_economic_df = economic_df[condition_1 | condition_2].copy()\n",
    "\n",
    "# Merge datasets on 'Year'\n",
    "data = pd.merge(production_df, new_economic_df, on='Year')\n",
    "data.set_index('Year')\n",
    "\n",
    "# Create an array of lag values\n",
    "num = 2\n",
    "lags = np.arange(-1 * num, num + 1)\n",
    "\n",
    "# Calculating cross-correlation for negative lags\n",
    "neg_ccf = ccf(data['unemployment_rate'], data['Production'])\n",
    "neg_ccf = neg_ccf[1:][::-1]\n",
    "\n",
    "# Combine with non-negative lags\n",
    "pos_ccf = ccf(data['Production'], data['unemployment_rate'])\n",
    "all_ccf = list(neg_ccf) + list(pos_ccf)\n",
    "\n",
    "plt.stem(lags, all_ccf, use_line_collection=True)\n",
    "plt.xlabel('Lag (Unit)')\n",
    "plt.ylabel('CCF (Cross Correlation Function)')\n",
    "plt.yticks(range(0, 1, 0.2)) # set y-axis ticks at intervals\n",
    "plt.title('Lag versus CCF for Meat Production and Unemployment')\n",
    "# plt.savefig('Red Meat Cold Storage.png')\n",
    "plt.show()"
   ]
  },
  {
   "cell_type": "code",
   "execution_count": null,
   "id": "8d29d90a-112f-4333-96ba-5ea9b49aeb88",
   "metadata": {},
   "outputs": [],
   "source": []
  }
 ],
 "metadata": {
  "kernelspec": {
   "display_name": "Python 3 (ipykernel)",
   "language": "python",
   "name": "python3"
  },
  "language_info": {
   "codemirror_mode": {
    "name": "ipython",
    "version": 3
   },
   "file_extension": ".py",
   "mimetype": "text/x-python",
   "name": "python",
   "nbconvert_exporter": "python",
   "pygments_lexer": "ipython3",
   "version": "3.11.7"
  }
 },
 "nbformat": 4,
 "nbformat_minor": 5
}
