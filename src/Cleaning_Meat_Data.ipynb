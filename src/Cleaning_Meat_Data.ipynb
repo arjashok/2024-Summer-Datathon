{
 "cells": [
  {
   "cell_type": "code",
   "execution_count": 1,
   "id": "52f23c82-7e37-4bfe-a4b2-a86370f818d2",
   "metadata": {},
   "outputs": [],
   "source": [
    "import pandas as pd"
   ]
  },
  {
   "cell_type": "code",
   "execution_count": 16,
   "id": "87661e33-cae1-4656-9679-8a9427fe7f7d",
   "metadata": {},
   "outputs": [],
   "source": [
    "storage_df = pd.read_csv('../datasets/Meat_Stats_Cold_Storage.csv')\n",
    "\n",
    "# converts 'Year' and 'Month' columns to datetime object\n",
    "storage_df['Date'] = pd.to_datetime(storage_df['Year'].astype(str) + '-' + storage_df['Month'].astype(str), format='%Y-%m')\n",
    "\n",
    "# Time frame -> 2010 to 2022 (which should eliminate na data for Broiler)\n",
    "time_condition = (storage_df['Year'] >= 2010) & (storage_df['Year'] <= 2022)\n",
    "new_storage_df = storage_df[time_condition]\n",
    "\n",
    "# Types of meat -> Red Meat or Poultry\n",
    "new_storage_df = new_storage_df.groupby(['Date', 'Year', 'Month', 'Unit', 'Type_Of_Meat'])['Weight'].sum().reset_index()\n",
    "\n",
    "new_storage_df.to_csv('../cleaned_datasets/Cleaned_Meat_Stats_Cold_Storage.csv')"
   ]
  },
  {
   "cell_type": "code",
   "execution_count": 5,
   "id": "d18ec22d-414f-460a-a7b5-ffdd9f813a52",
   "metadata": {},
   "outputs": [
    {
     "name": "stderr",
     "output_type": "stream",
     "text": [
      "/var/folders/vb/thspx10145bgsk7pph5_f5vw0000gn/T/ipykernel_88343/1763977392.py:11: SettingWithCopyWarning: \n",
      "A value is trying to be set on a copy of a slice from a DataFrame.\n",
      "Try using .loc[row_indexer,col_indexer] = value instead\n",
      "\n",
      "See the caveats in the documentation: https://pandas.pydata.org/pandas-docs/stable/user_guide/indexing.html#returning-a-view-versus-a-copy\n",
      "  new_production_df['Production'] = new_production_df['Production'].str.replace(',', '').astype(float)\n"
     ]
    }
   ],
   "source": [
    "production_df = pd.read_csv('../datasets/Meat_Stats_Meat_Production.csv')\n",
    "\n",
    "# converts 'Year' and 'Month' columns to datetime object\n",
    "production_df['Date'] = pd.to_datetime(production_df['Year'].astype(str) + '-' + production_df['Month'].astype(str), format='%Y-%m')\n",
    "\n",
    "# Time frame -> 2010 to 2022 (originally 1921 to 2023)\n",
    "time_condition = (production_df['Year'] >= 2010) & (production_df['Year'] <= 2022)\n",
    "new_production_df = production_df[time_condition]\n",
    "\n",
    "# Types of meat -> Red Meat or Poultry (I guess disregard Commercial or Federally Inspected?)\n",
    "new_production_df['Production'] = new_production_df['Production'].str.replace(',', '').astype(float)\n",
    "new_production_df = new_production_df.groupby(['Date', 'Year', 'Month', 'Unit', 'Type of Meat'])['Production'].sum().reset_index()\n",
    "\n",
    "new_production_df.to_csv('../cleaned-datasets/Cleaned_Meat_Stats_Meat_Production.csv')"
   ]
  },
  {
   "cell_type": "code",
   "execution_count": 19,
   "id": "04fc9f1c-b905-42a6-bba1-d2fad5132963",
   "metadata": {},
   "outputs": [],
   "source": [
    "count_df = pd.read_csv('../datasets/Meat_Stats_Slaughter_Counts.csv')\n",
    "\n",
    "# converts 'Year' and 'Month' columns to datetime object\n",
    "count_df['Date'] = pd.to_datetime(count_df['Year'].astype(str) + '-' + count_df['Month'].astype(str), format='%Y-%m')\n",
    "\n",
    "# Time frame -> 2010 to 2022 (originally 1983 to 2023)\n",
    "time_condition = (count_df['Year'] >= 2010) & (count_df['Year'] <= 2022)\n",
    "new_count_df = count_df[time_condition]\n",
    "\n",
    "# Types of meat -> Red Meat or Poultry (disregarding Commercial or Federally Inspected for now)\n",
    "new_count_df['Count'] = new_production_df['Count'].str.replace(',', '').astype(float)\n",
    "new_count_df = new_count_df.groupby(['Date', 'Year', 'Month', 'Unit', 'Type_Of_Meat'])['Count'].sum().reset_index()\n",
    "\n",
    "new_count_df.to_csv('../cleaned-datasets/Cleaned_Meat_Stats_Slaughter_Counts.csv')"
   ]
  },
  {
   "cell_type": "code",
   "execution_count": null,
   "id": "e7cbd4c1-4137-43e4-b59e-f11f43a35d54",
   "metadata": {},
   "outputs": [],
   "source": []
  }
 ],
 "metadata": {
  "kernelspec": {
   "display_name": "Python 3 (ipykernel)",
   "language": "python",
   "name": "python3"
  },
  "language_info": {
   "codemirror_mode": {
    "name": "ipython",
    "version": 3
   },
   "file_extension": ".py",
   "mimetype": "text/x-python",
   "name": "python",
   "nbconvert_exporter": "python",
   "pygments_lexer": "ipython3",
   "version": "3.11.7"
  }
 },
 "nbformat": 4,
 "nbformat_minor": 5
}
